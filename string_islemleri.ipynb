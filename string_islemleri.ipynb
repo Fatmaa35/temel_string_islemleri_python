{
 "cells": [
  {
   "cell_type": "markdown",
   "id": "af066051-5066-4d48-b5c4-978752479571",
   "metadata": {},
   "source": [
    "    TEMEL STRİNG İŞLEMLERİ"
   ]
  },
  {
   "cell_type": "markdown",
   "id": "749c6e36-59de-487a-b902-4dd9338da157",
   "metadata": {},
   "source": [
    "## Oluşturma Biçimlendirme"
   ]
  },
  {
   "cell_type": "code",
   "execution_count": 1,
   "id": "37a711dc-5975-4a3f-8568-e5125a4c6c9e",
   "metadata": {},
   "outputs": [
    {
     "data": {
      "text/plain": [
       "'mvkmvkmvk'"
      ]
     },
     "execution_count": 1,
     "metadata": {},
     "output_type": "execute_result"
    }
   ],
   "source": [
    "isim=\"mvk\"\n",
    "3*isim"
   ]
  },
  {
   "cell_type": "code",
   "execution_count": 3,
   "id": "5d3a41bb-45a2-4a50-82ae-d0025e343e0b",
   "metadata": {},
   "outputs": [
    {
     "data": {
      "text/plain": [
       "'mvkaliali'"
      ]
     },
     "execution_count": 3,
     "metadata": {},
     "output_type": "execute_result"
    }
   ],
   "source": [
    "\"mvk\"+(2*\"ali\")"
   ]
  },
  {
   "cell_type": "code",
   "execution_count": 5,
   "id": "e2d3a7b1-d346-4605-977c-42ceb131d33a",
   "metadata": {},
   "outputs": [
    {
     "data": {
      "text/plain": [
       "'Kvk'"
      ]
     },
     "execution_count": 5,
     "metadata": {},
     "output_type": "execute_result"
    }
   ],
   "source": [
    "\"K\"+isim[1:]"
   ]
  },
  {
   "cell_type": "code",
   "execution_count": 13,
   "id": "081b0882-d562-4e71-9472-6d5740e104c9",
   "metadata": {},
   "outputs": [],
   "source": [
    "isimler=[\"samet\",\"kaya\",\"merve\"]"
   ]
  },
  {
   "cell_type": "code",
   "execution_count": 17,
   "id": "743feea8-7982-4998-9fc1-a629aa42a5bf",
   "metadata": {},
   "outputs": [
    {
     "name": "stdout",
     "output_type": "stream",
     "text": [
      "_ samet\n",
      "_ kaya\n",
      "_ merve\n"
     ]
    }
   ],
   "source": [
    "for i in isimler:\n",
    "    print(\"_\",i[0:],sep=\" \")"
   ]
  },
  {
   "cell_type": "code",
   "execution_count": 18,
   "id": "25b69b5b-a9e6-456a-84d7-42a4fffc6b62",
   "metadata": {},
   "outputs": [
    {
     "name": "stdout",
     "output_type": "stream",
     "text": [
      "(0, 'samet') (1, 'kaya') (2, 'merve')\n"
     ]
    }
   ],
   "source": [
    "print(*enumerate(isimler))"
   ]
  },
  {
   "cell_type": "code",
   "execution_count": 19,
   "id": "afc3981e-1375-4d79-a296-8ae89deeb178",
   "metadata": {},
   "outputs": [
    {
     "name": "stdout",
     "output_type": "stream",
     "text": [
      "(0, 'samet')\n",
      "(1, 'kaya')\n",
      "(2, 'merve')\n"
     ]
    }
   ],
   "source": [
    "for i in enumerate(isimler):\n",
    "    print(i)"
   ]
  },
  {
   "cell_type": "code",
   "execution_count": 23,
   "id": "2add01da-b23f-4586-8ccc-35fb3ed61e88",
   "metadata": {},
   "outputs": [
    {
     "name": "stdout",
     "output_type": "stream",
     "text": [
      "(1, 'samet')\n",
      "(2, 'kaya')\n",
      "(3, 'merve')\n"
     ]
    }
   ],
   "source": [
    "for i in enumerate(isimler,1):\n",
    "    print(i)"
   ]
  },
  {
   "cell_type": "markdown",
   "id": "b68347a7-590e-4aac-8777-8d1985bf9367",
   "metadata": {},
   "source": [
    "## DİZİ İÇİ TİP SORGULAMALARI"
   ]
  },
  {
   "cell_type": "code",
   "execution_count": 27,
   "id": "e027a3a4-2893-44d8-848f-ca978a8112b8",
   "metadata": {},
   "outputs": [
    {
     "data": {
      "text/plain": [
       "True"
      ]
     },
     "execution_count": 27,
     "metadata": {},
     "output_type": "execute_result"
    }
   ],
   "source": [
    "\"banu\".isalpha()"
   ]
  },
  {
   "cell_type": "code",
   "execution_count": 28,
   "id": "3601c229-8331-42ee-9f45-0aeceac65c9d",
   "metadata": {},
   "outputs": [
    {
     "data": {
      "text/plain": [
       "False"
      ]
     },
     "execution_count": 28,
     "metadata": {},
     "output_type": "execute_result"
    }
   ],
   "source": [
    "\"banu23\".isalpha()"
   ]
  },
  {
   "cell_type": "code",
   "execution_count": 29,
   "id": "799818bd-9d4e-411d-854e-1b93e21e8907",
   "metadata": {},
   "outputs": [
    {
     "data": {
      "text/plain": [
       "True"
      ]
     },
     "execution_count": 29,
     "metadata": {},
     "output_type": "execute_result"
    }
   ],
   "source": [
    "\"123\".isdigit()"
   ]
  },
  {
   "cell_type": "code",
   "execution_count": 30,
   "id": "e27a8f98-32df-4c1f-9d49-c4765d3e8f19",
   "metadata": {},
   "outputs": [
    {
     "data": {
      "text/plain": [
       "False"
      ]
     },
     "execution_count": 30,
     "metadata": {},
     "output_type": "execute_result"
    }
   ],
   "source": [
    "\"123a\".isdigit()"
   ]
  },
  {
   "cell_type": "code",
   "execution_count": 31,
   "id": "a15c4b1b-9e31-45fb-b959-5ee41765a0a2",
   "metadata": {},
   "outputs": [
    {
     "data": {
      "text/plain": [
       "True"
      ]
     },
     "execution_count": 31,
     "metadata": {},
     "output_type": "execute_result"
    }
   ],
   "source": [
    "\"banu30\".isalnum()"
   ]
  },
  {
   "cell_type": "markdown",
   "id": "6003c0e6-8f7a-4cc8-82c1-cc4116f5b7e2",
   "metadata": {},
   "source": [
    "## Elemanlarına ve Indexlerine Erişmek"
   ]
  },
  {
   "cell_type": "code",
   "execution_count": 35,
   "id": "d942afb2-06d6-49de-9385-3d8712f68f4d",
   "metadata": {},
   "outputs": [],
   "source": [
    "isim=\"milliteknolojiHamlesi\""
   ]
  },
  {
   "cell_type": "code",
   "execution_count": 36,
   "id": "ff36c61b-aa9b-4162-8a21-533aac9e4c91",
   "metadata": {},
   "outputs": [
    {
     "data": {
      "text/plain": [
       "'milliteknolojiHamlesi'"
      ]
     },
     "execution_count": 36,
     "metadata": {},
     "output_type": "execute_result"
    }
   ],
   "source": [
    "isim"
   ]
  },
  {
   "cell_type": "code",
   "execution_count": 38,
   "id": "14ccd6b7-4f85-44f4-9506-a29b223eadb5",
   "metadata": {},
   "outputs": [
    {
     "data": {
      "text/plain": [
       "'millitek'"
      ]
     },
     "execution_count": 38,
     "metadata": {},
     "output_type": "execute_result"
    }
   ],
   "source": [
    "isim[0:8]"
   ]
  },
  {
   "cell_type": "code",
   "execution_count": 42,
   "id": "336c6010-1743-4827-8066-7aa8ee00a628",
   "metadata": {},
   "outputs": [
    {
     "data": {
      "text/plain": [
       "14"
      ]
     },
     "execution_count": 42,
     "metadata": {},
     "output_type": "execute_result"
    }
   ],
   "source": [
    "isim.index(\"H\")"
   ]
  },
  {
   "cell_type": "code",
   "execution_count": 43,
   "id": "6700a19b-5a09-46a2-a6f3-fa55e1a06824",
   "metadata": {},
   "outputs": [
    {
     "data": {
      "text/plain": [
       "1"
      ]
     },
     "execution_count": 43,
     "metadata": {},
     "output_type": "execute_result"
    }
   ],
   "source": [
    "isim.index(\"i\")"
   ]
  },
  {
   "cell_type": "code",
   "execution_count": 47,
   "id": "3869ce91-e963-4037-952b-40a748864f59",
   "metadata": {},
   "outputs": [
    {
     "data": {
      "text/plain": [
       "4"
      ]
     },
     "execution_count": 47,
     "metadata": {},
     "output_type": "execute_result"
    }
   ],
   "source": [
    "isim.index(\"i\",3)"
   ]
  },
  {
   "cell_type": "markdown",
   "id": "ddafa326-6ce1-48a5-9444-a405a7421898",
   "metadata": {},
   "source": [
    "## Başlangıç ve Bitiş Karakterlerini Sorgulamak: startswith() & endswith()"
   ]
  },
  {
   "cell_type": "code",
   "execution_count": 49,
   "id": "aec44c6c-0986-4bea-9b5f-6b564e875fc9",
   "metadata": {},
   "outputs": [],
   "source": [
    "isim=\"Yavuz Sultan Selim\""
   ]
  },
  {
   "cell_type": "code",
   "execution_count": 56,
   "id": "4d9a39a5-7312-4b66-a7f6-b8c65cd03632",
   "metadata": {},
   "outputs": [
    {
     "data": {
      "text/plain": [
       "False"
      ]
     },
     "execution_count": 56,
     "metadata": {},
     "output_type": "execute_result"
    }
   ],
   "source": [
    "isim.startswith(\"m\")\n",
    "isim.startswith(\"a\")\n"
   ]
  },
  {
   "cell_type": "code",
   "execution_count": 58,
   "id": "a3585281-e61b-4d9b-8176-89888328c38c",
   "metadata": {},
   "outputs": [
    {
     "data": {
      "text/plain": [
       "True"
      ]
     },
     "execution_count": 58,
     "metadata": {},
     "output_type": "execute_result"
    }
   ],
   "source": [
    "isim.startswith(\"Y\")"
   ]
  },
  {
   "cell_type": "code",
   "execution_count": 59,
   "id": "636f285c-46c9-41b4-90ee-01f8954c6593",
   "metadata": {},
   "outputs": [
    {
     "data": {
      "text/plain": [
       "True"
      ]
     },
     "execution_count": 59,
     "metadata": {},
     "output_type": "execute_result"
    }
   ],
   "source": [
    "isim.endswith(\"m\")"
   ]
  },
  {
   "cell_type": "code",
   "execution_count": 60,
   "id": "e3d7c305-ab49-4ef3-b922-ea93e4f7c3a3",
   "metadata": {},
   "outputs": [
    {
     "data": {
      "text/plain": [
       "False"
      ]
     },
     "execution_count": 60,
     "metadata": {},
     "output_type": "execute_result"
    }
   ],
   "source": [
    "isim.endswith(\"g\")"
   ]
  },
  {
   "cell_type": "markdown",
   "id": "7b30ec83-15e8-433e-acc9-fcf0ba8b019a",
   "metadata": {},
   "source": [
    "#count"
   ]
  },
  {
   "cell_type": "code",
   "execution_count": 61,
   "id": "83e3942c-ef6a-4826-94ca-08c048b88b32",
   "metadata": {},
   "outputs": [
    {
     "data": {
      "text/plain": [
       "2"
      ]
     },
     "execution_count": 61,
     "metadata": {},
     "output_type": "execute_result"
    }
   ],
   "source": [
    "isim.count(\"a\")"
   ]
  },
  {
   "cell_type": "code",
   "execution_count": 62,
   "id": "a2f0d0b4-d6cb-4730-b860-4d95a8dcee2e",
   "metadata": {},
   "outputs": [
    {
     "data": {
      "text/plain": [
       "1"
      ]
     },
     "execution_count": 62,
     "metadata": {},
     "output_type": "execute_result"
    }
   ],
   "source": [
    "isim.count(\"e\")"
   ]
  },
  {
   "cell_type": "markdown",
   "id": "0eaa727c-2059-4fea-8ff8-682bfb648dd6",
   "metadata": {},
   "source": [
    "#sorted"
   ]
  },
  {
   "cell_type": "code",
   "execution_count": 63,
   "id": "4d0d624a-32e3-4598-9241-39181a2d46e0",
   "metadata": {},
   "outputs": [
    {
     "data": {
      "text/plain": [
       "['d', 'e', 'e', 'f', 'r', 't']"
      ]
     },
     "execution_count": 63,
     "metadata": {},
     "output_type": "execute_result"
    }
   ],
   "source": [
    "sorted(\"defter\")"
   ]
  },
  {
   "cell_type": "code",
   "execution_count": 65,
   "id": "8128d06b-14b2-4bf6-8b93-266a3b81c73c",
   "metadata": {},
   "outputs": [
    {
     "name": "stdout",
     "output_type": "stream",
     "text": [
      "d e e f r t\n"
     ]
    }
   ],
   "source": [
    "print(*sorted(\"defter\"),sep=\"\")"
   ]
  },
  {
   "cell_type": "markdown",
   "id": "4b370c55-1447-4fb6-bec1-b6d6fd3f4460",
   "metadata": {},
   "source": [
    "## Karakterleri bölmek"
   ]
  },
  {
   "cell_type": "code",
   "execution_count": 2,
   "id": "94fe175c-7749-4980-ade0-ad4337358905",
   "metadata": {},
   "outputs": [],
   "source": [
    "isim=\"Gökberk Selim Kaya\""
   ]
  },
  {
   "cell_type": "code",
   "execution_count": 6,
   "id": "8ffdcb34-ce1b-4f40-ad40-efaceead25fe",
   "metadata": {},
   "outputs": [
    {
     "data": {
      "text/plain": [
       "['Gökberk', 'Selim', 'Kaya']"
      ]
     },
     "execution_count": 6,
     "metadata": {},
     "output_type": "execute_result"
    }
   ],
   "source": [
    "isim.split()"
   ]
  },
  {
   "cell_type": "code",
   "execution_count": 9,
   "id": "e59f3fc7-a00c-45f0-9ec3-183243c88118",
   "metadata": {},
   "outputs": [],
   "source": [
    "isim=\"Gökberk_Selim_Kaya\""
   ]
  },
  {
   "cell_type": "code",
   "execution_count": 10,
   "id": "31ebda45-c162-43c7-a287-c9ab1e9bfe8e",
   "metadata": {},
   "outputs": [
    {
     "data": {
      "text/plain": [
       "['Gökberk', 'Selim', 'Kaya']"
      ]
     },
     "execution_count": 10,
     "metadata": {},
     "output_type": "execute_result"
    }
   ],
   "source": [
    "isim.split(\"_\")"
   ]
  },
  {
   "cell_type": "markdown",
   "id": "3977c522-56d8-406c-ba86-2ea5588d6367",
   "metadata": {},
   "source": [
    " ## Büyük-Küçük Harf İşlemleri"
   ]
  },
  {
   "cell_type": "code",
   "execution_count": 13,
   "id": "83071484-e090-4e40-93f6-6192ebfbd595",
   "metadata": {},
   "outputs": [],
   "source": [
    "isim=\"Gökberk Selim Kaya\""
   ]
  },
  {
   "cell_type": "code",
   "execution_count": 14,
   "id": "b2dc3096-a5b5-498e-bac7-6682c96ca87d",
   "metadata": {},
   "outputs": [
    {
     "data": {
      "text/plain": [
       "'gökberk selim kaya'"
      ]
     },
     "execution_count": 14,
     "metadata": {},
     "output_type": "execute_result"
    }
   ],
   "source": [
    "isim.lower()"
   ]
  },
  {
   "cell_type": "code",
   "execution_count": 15,
   "id": "717a6236-df4f-4b7d-aa06-64405947f9a1",
   "metadata": {},
   "outputs": [
    {
     "data": {
      "text/plain": [
       "'GÖKBERK SELIM KAYA'"
      ]
     },
     "execution_count": 15,
     "metadata": {},
     "output_type": "execute_result"
    }
   ],
   "source": [
    "isim.upper()"
   ]
  },
  {
   "cell_type": "code",
   "execution_count": 16,
   "id": "6b74a8f7-4fed-4e5d-a9a2-b65e3fa5dd4a",
   "metadata": {},
   "outputs": [
    {
     "data": {
      "text/plain": [
       "'gökberk selim kaya'"
      ]
     },
     "execution_count": 16,
     "metadata": {},
     "output_type": "execute_result"
    }
   ],
   "source": [
    "isim.upper().lower()"
   ]
  },
  {
   "cell_type": "code",
   "execution_count": 17,
   "id": "34c9d486-43f0-427f-a7a2-b8e85298f5c2",
   "metadata": {},
   "outputs": [
    {
     "data": {
      "text/plain": [
       "'GÖKBERK SELIM KAYA'"
      ]
     },
     "execution_count": 17,
     "metadata": {},
     "output_type": "execute_result"
    }
   ],
   "source": [
    "isim.lower().upper()"
   ]
  },
  {
   "cell_type": "code",
   "execution_count": 19,
   "id": "743f16a3-1e45-4604-9967-da24fb5544ab",
   "metadata": {},
   "outputs": [],
   "source": [
    "isim_b=isim.upper()"
   ]
  },
  {
   "cell_type": "code",
   "execution_count": 20,
   "id": "542936e1-bee9-4899-8236-8462f400e27d",
   "metadata": {},
   "outputs": [
    {
     "data": {
      "text/plain": [
       "'GÖKBERK SELIM KAYA'"
      ]
     },
     "execution_count": 20,
     "metadata": {},
     "output_type": "execute_result"
    }
   ],
   "source": [
    "isim_b"
   ]
  },
  {
   "cell_type": "code",
   "execution_count": 21,
   "id": "f4274b48-5dc9-44c9-a450-b13eb8dd2675",
   "metadata": {},
   "outputs": [
    {
     "data": {
      "text/plain": [
       "False"
      ]
     },
     "execution_count": 21,
     "metadata": {},
     "output_type": "execute_result"
    }
   ],
   "source": [
    "isim_b.islower()"
   ]
  },
  {
   "cell_type": "code",
   "execution_count": 22,
   "id": "d8609514-5afd-43ae-a9b4-7d7c1349dc74",
   "metadata": {},
   "outputs": [
    {
     "data": {
      "text/plain": [
       "True"
      ]
     },
     "execution_count": 22,
     "metadata": {},
     "output_type": "execute_result"
    }
   ],
   "source": [
    "isim_b.isupper()"
   ]
  },
  {
   "cell_type": "markdown",
   "id": "d8ea2d44-c0ae-4f13-8eee-915980280b99",
   "metadata": {},
   "source": [
    "## Capitalize() & Title() & Swapcase()"
   ]
  },
  {
   "cell_type": "code",
   "execution_count": 77,
   "id": "2083f60d-cc8b-4619-9357-a00d40bf3eca",
   "metadata": {},
   "outputs": [],
   "source": [
    "isim=\"gökberk selim kaya\""
   ]
  },
  {
   "cell_type": "code",
   "execution_count": 78,
   "id": "90e4c3d4-9aed-40a7-9340-58df724f68f8",
   "metadata": {},
   "outputs": [
    {
     "data": {
      "text/plain": [
       "'Gökberk selim kaya'"
      ]
     },
     "execution_count": 78,
     "metadata": {},
     "output_type": "execute_result"
    }
   ],
   "source": [
    "isim.capitalize()"
   ]
  },
  {
   "cell_type": "code",
   "execution_count": 79,
   "id": "6f98e722-4c97-4bfe-8063-333f8cee63ba",
   "metadata": {},
   "outputs": [
    {
     "data": {
      "text/plain": [
       "'Gökberk Selim Kaya'"
      ]
     },
     "execution_count": 79,
     "metadata": {},
     "output_type": "execute_result"
    }
   ],
   "source": [
    "isim.title()"
   ]
  },
  {
   "cell_type": "code",
   "execution_count": 80,
   "id": "649943da-4fa3-431f-8d4e-82710591c196",
   "metadata": {},
   "outputs": [],
   "source": [
    "isim=\"Gökberk selim kaya\""
   ]
  },
  {
   "cell_type": "code",
   "execution_count": 81,
   "id": "c14d027d-461c-42f6-9d34-2a52ea106287",
   "metadata": {},
   "outputs": [
    {
     "data": {
      "text/plain": [
       "'gÖKBERK SELIM KAYA'"
      ]
     },
     "execution_count": 81,
     "metadata": {},
     "output_type": "execute_result"
    }
   ],
   "source": [
    "isim.swapcase()"
   ]
  },
  {
   "cell_type": "markdown",
   "id": "a3544e35-0b09-4245-94b5-29b1a6132ea6",
   "metadata": {},
   "source": [
    "## İstenmeyen Karakterleri Kırpmak: strip(),lstrip(),rstrip()"
   ]
  },
  {
   "cell_type": "code",
   "execution_count": 82,
   "id": "2e1c79c3-d2f9-4c02-b956-400a3a2ee423",
   "metadata": {},
   "outputs": [],
   "source": [
    "kelime=\"*Hello*\""
   ]
  },
  {
   "cell_type": "code",
   "execution_count": 83,
   "id": "e04628cc-ae1f-4eea-b823-c2d2f4b2d797",
   "metadata": {},
   "outputs": [
    {
     "data": {
      "text/plain": [
       "'Hello'"
      ]
     },
     "execution_count": 83,
     "metadata": {},
     "output_type": "execute_result"
    }
   ],
   "source": [
    "kelime.strip(\"*\") ##strip() ön tanımlı olarak boşlukları kırpar."
   ]
  },
  {
   "cell_type": "code",
   "execution_count": 84,
   "id": "94630a56-0633-43bf-b423-8c6aefd35483",
   "metadata": {},
   "outputs": [
    {
     "data": {
      "text/plain": [
       "'Hello*'"
      ]
     },
     "execution_count": 84,
     "metadata": {},
     "output_type": "execute_result"
    }
   ],
   "source": [
    "kelime.lstrip(\"*\")"
   ]
  },
  {
   "cell_type": "code",
   "execution_count": 85,
   "id": "77ee48ba-aa7a-4df1-9b02-7e1253ee6206",
   "metadata": {},
   "outputs": [
    {
     "data": {
      "text/plain": [
       "'*Hello'"
      ]
     },
     "execution_count": 85,
     "metadata": {},
     "output_type": "execute_result"
    }
   ],
   "source": [
    "kelime.rstrip(\"*\")"
   ]
  },
  {
   "cell_type": "markdown",
   "id": "fb9dffc8-4aef-4a9a-8b7b-3c9e6d69230e",
   "metadata": {},
   "source": [
    "## Join():bölünmüş ya da zaten bölük olan ifadeleri birleştiren ifadedir."
   ]
  },
  {
   "cell_type": "code",
   "execution_count": 86,
   "id": "bcbd47df-d28b-4679-9018-f18ee9d5812f",
   "metadata": {},
   "outputs": [],
   "source": [
    "isim=\"Selim Ata Korkmaz\""
   ]
  },
  {
   "cell_type": "code",
   "execution_count": 89,
   "id": "2a9b1a63-b0bc-4ab2-bf8e-fcbc24779280",
   "metadata": {},
   "outputs": [],
   "source": [
    "ayrik=isim.split()\n"
   ]
  },
  {
   "cell_type": "code",
   "execution_count": 91,
   "id": "fa7f4e22-5bca-4f50-bbb2-376663fe857f",
   "metadata": {},
   "outputs": [
    {
     "data": {
      "text/plain": [
       "['Selim', 'Ata', 'Korkmaz']"
      ]
     },
     "execution_count": 91,
     "metadata": {},
     "output_type": "execute_result"
    }
   ],
   "source": [
    "ayrik"
   ]
  },
  {
   "cell_type": "code",
   "execution_count": 95,
   "id": "0416d20f-e4f6-45f9-a56c-cb9508c71dcd",
   "metadata": {},
   "outputs": [],
   "source": [
    "joiner=\"-\""
   ]
  },
  {
   "cell_type": "code",
   "execution_count": 96,
   "id": "e85979c6-ac15-4b0a-83cf-2d4d171e407c",
   "metadata": {},
   "outputs": [
    {
     "data": {
      "text/plain": [
       "'Selim-Ata-Korkmaz'"
      ]
     },
     "execution_count": 96,
     "metadata": {},
     "output_type": "execute_result"
    }
   ],
   "source": [
    "joiner.join(ayrik)"
   ]
  },
  {
   "cell_type": "markdown",
   "id": "e6650f71-2776-47de-ac00-8e2c91d087b7",
   "metadata": {},
   "source": [
    "## Eleman Değiştirme: replace(),str.maketrans(),translate()"
   ]
  },
  {
   "cell_type": "code",
   "execution_count": 107,
   "id": "790c44f3-8275-4aa7-b766-3f1cf8bfa992",
   "metadata": {},
   "outputs": [
    {
     "data": {
      "text/plain": [
       "'Selim Ata Korkmaz'"
      ]
     },
     "execution_count": 107,
     "metadata": {},
     "output_type": "execute_result"
    }
   ],
   "source": [
    "isim"
   ]
  },
  {
   "cell_type": "code",
   "execution_count": 108,
   "id": "21118bdc-30e0-4422-85f7-5bceb7fb3f04",
   "metadata": {},
   "outputs": [
    {
     "data": {
      "text/plain": [
       "'Kaan Ata Korkmaz'"
      ]
     },
     "execution_count": 108,
     "metadata": {},
     "output_type": "execute_result"
    }
   ],
   "source": [
    "isim.replace(\"Selim\",\"Kaan\")"
   ]
  },
  {
   "cell_type": "code",
   "execution_count": 1,
   "id": "fe5193a0-0925-4131-9e2f-8e2393871003",
   "metadata": {},
   "outputs": [],
   "source": [
    "ifade=\"Bu ifade İçerisinde bağzı Türkçe karakterler vardır.\""
   ]
  },
  {
   "cell_type": "code",
   "execution_count": 2,
   "id": "a063817c-d3f7-43ac-9a41-c49a829fb138",
   "metadata": {},
   "outputs": [],
   "source": [
    "duzeltilecek_harfler=\"çÇğĞıİöÖüÜŞş\""
   ]
  },
  {
   "cell_type": "code",
   "execution_count": 3,
   "id": "433ed000-2156-43be-bda8-1520ffc472d9",
   "metadata": {},
   "outputs": [],
   "source": [
    "duzeltilmis_harfler=\"cCgGiIoOuUSs\""
   ]
  },
  {
   "cell_type": "code",
   "execution_count": 4,
   "id": "a2603e47-5e08-4f6a-8f98-b3ea683f113a",
   "metadata": {},
   "outputs": [],
   "source": [
    "alfabe_duzeltme=str.maketrans(duzeltilecek_harfler,duzeltilmis_harfler)"
   ]
  },
  {
   "cell_type": "code",
   "execution_count": 6,
   "id": "b9b9bade-a0be-4693-9658-9279739673e9",
   "metadata": {},
   "outputs": [
    {
     "data": {
      "text/plain": [
       "'Bu ifade Icerisinde bagzi Turkce karakterler vardir.'"
      ]
     },
     "execution_count": 6,
     "metadata": {},
     "output_type": "execute_result"
    }
   ],
   "source": [
    "ifade.translate(alfabe_duzeltme)"
   ]
  },
  {
   "cell_type": "markdown",
   "id": "a31abd33-7658-4381-948e-19c5e53caf2b",
   "metadata": {},
   "source": [
    "## contains"
   ]
  },
  {
   "cell_type": "code",
   "execution_count": 12,
   "id": "b5983fbb-62c5-41ed-b887-a755d71c0951",
   "metadata": {},
   "outputs": [],
   "source": [
    "import pandas as pd\n",
    "isimler=[\"ayse\",\"Ayşe\",\"ali\",\"aali\",\"Ali\",\"veli\",\"mehmet\",\"berkcan\"]\n",
    "v=pd.Series(isimler)"
   ]
  },
  {
   "cell_type": "code",
   "execution_count": 13,
   "id": "290f7632-223d-41af-b746-7cae56468537",
   "metadata": {},
   "outputs": [
    {
     "data": {
      "text/plain": [
       "0       ayse\n",
       "1       Ayşe\n",
       "2        ali\n",
       "3       aali\n",
       "4        Ali\n",
       "5       veli\n",
       "6     mehmet\n",
       "7    berkcan\n",
       "dtype: object"
      ]
     },
     "execution_count": 13,
     "metadata": {},
     "output_type": "execute_result"
    }
   ],
   "source": [
    "v"
   ]
  },
  {
   "cell_type": "code",
   "execution_count": 16,
   "id": "b61ef70b-e10a-4969-b3b3-bcb4b16ff67e",
   "metadata": {},
   "outputs": [
    {
     "data": {
      "text/plain": [
       "0    False\n",
       "1    False\n",
       "2     True\n",
       "3     True\n",
       "4    False\n",
       "5    False\n",
       "6    False\n",
       "7    False\n",
       "dtype: bool"
      ]
     },
     "execution_count": 16,
     "metadata": {},
     "output_type": "execute_result"
    }
   ],
   "source": [
    "v.str.contains(\"al\")"
   ]
  },
  {
   "cell_type": "code",
   "execution_count": 20,
   "id": "9056f4c0-2c9b-4acb-b321-a8b784c9913a",
   "metadata": {},
   "outputs": [
    {
     "data": {
      "text/plain": [
       "'aliaali'"
      ]
     },
     "execution_count": 20,
     "metadata": {},
     "output_type": "execute_result"
    }
   ],
   "source": [
    "v[v.str.contains(\"al\")]"
   ]
  },
  {
   "cell_type": "code",
   "execution_count": 23,
   "id": "4e253f0e-c1e5-448c-b807-0916f446902a",
   "metadata": {
    "scrolled": true
   },
   "outputs": [
    {
     "data": {
      "text/plain": [
       "np.int64(3)"
      ]
     },
     "execution_count": 23,
     "metadata": {},
     "output_type": "execute_result"
    }
   ],
   "source": [
    "v.str.contains(\"[Aa]li\").sum()"
   ]
  },
  {
   "cell_type": "code",
   "execution_count": null,
   "id": "7f1d7ef4-85fa-478c-8df2-8eb169b0a1cb",
   "metadata": {},
   "outputs": [],
   "source": []
  }
 ],
 "metadata": {
  "kernelspec": {
   "display_name": "Python [conda env:base] *",
   "language": "python",
   "name": "conda-base-py"
  },
  "language_info": {
   "codemirror_mode": {
    "name": "ipython",
    "version": 3
   },
   "file_extension": ".py",
   "mimetype": "text/x-python",
   "name": "python",
   "nbconvert_exporter": "python",
   "pygments_lexer": "ipython3",
   "version": "3.13.5"
  }
 },
 "nbformat": 4,
 "nbformat_minor": 5
}
